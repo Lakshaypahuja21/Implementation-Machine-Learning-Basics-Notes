{
  "nbformat": 4,
  "nbformat_minor": 0,
  "metadata": {
    "colab": {
      "name": "Simple Linear Regression ",
      "provenance": [],
      "toc_visible": true,
      "authorship_tag": "ABX9TyOSBwiGRMn8vsEB6lh2fY0c",
      "include_colab_link": true
    },
    "kernelspec": {
      "name": "python3",
      "display_name": "Python 3"
    }
  },
  "cells": [
    {
      "cell_type": "markdown",
      "metadata": {
        "id": "view-in-github",
        "colab_type": "text"
      },
      "source": [
        "<a href=\"https://colab.research.google.com/github/Lakshaypahuja21/Machine-Learning-Basics/blob/master/Simple_Linear_Regression.ipynb\" target=\"_parent\"><img src=\"https://colab.research.google.com/assets/colab-badge.svg\" alt=\"Open In Colab\"/></a>"
      ]
    },
    {
      "cell_type": "markdown",
      "metadata": {
        "id": "XtCUoTDpM_HW"
      },
      "source": [
        "## Import Library"
      ]
    },
    {
      "cell_type": "code",
      "metadata": {
        "id": "A4inHxkr202a"
      },
      "source": [
        "import numpy as np\n",
        "import pandas as pd\n",
        "import matplotlib.pyplot as plt"
      ],
      "execution_count": 29,
      "outputs": []
    },
    {
      "cell_type": "markdown",
      "metadata": {
        "id": "gYp_a9SeM9tO"
      },
      "source": [
        "## Import dataset"
      ]
    },
    {
      "cell_type": "code",
      "metadata": {
        "id": "gJPgNsUAM8iv"
      },
      "source": [
        "df = pd.read_csv('Salary_Data.csv')\n"
      ],
      "execution_count": 30,
      "outputs": []
    },
    {
      "cell_type": "markdown",
      "metadata": {
        "id": "gYJcAF1hNtGB"
      },
      "source": [
        "independent & dependent var"
      ]
    },
    {
      "cell_type": "code",
      "metadata": {
        "id": "iQFll6LvNsFw"
      },
      "source": [
        "x = df.iloc[:, :-1].values\n",
        "y = df.iloc[:, 1:].values"
      ],
      "execution_count": 31,
      "outputs": []
    },
    {
      "cell_type": "markdown",
      "metadata": {
        "id": "RTfjI7vsQ3UG"
      },
      "source": [
        "## training & test set"
      ]
    },
    {
      "cell_type": "code",
      "metadata": {
        "id": "mvf_JEvTQ0Tu"
      },
      "source": [
        "from sklearn.model_selection import train_test_split\n",
        "x_train , x_test , y_train , y_test = train_test_split(x, y, test_size = 0.2, random_state=1)\n"
      ],
      "execution_count": 32,
      "outputs": []
    },
    {
      "cell_type": "markdown",
      "metadata": {
        "id": "nObfldnWD6ON"
      },
      "source": [
        "## Training linear regression model"
      ]
    },
    {
      "cell_type": "code",
      "metadata": {
        "id": "eSptx4GYECcn",
        "outputId": "a87fa1d2-08c8-438f-e008-200adcd50765",
        "colab": {
          "base_uri": "https://localhost:8080/",
          "height": 34
        }
      },
      "source": [
        "from sklearn.linear_model import LinearRegression\n",
        "regressor = LinearRegression()\n",
        "regressor.fit(x_train, y_train)\n",
        "# fit method is used to train using linear regression....basically it connects model to training set"
      ],
      "execution_count": 33,
      "outputs": [
        {
          "output_type": "execute_result",
          "data": {
            "text/plain": [
              "LinearRegression(copy_X=True, fit_intercept=True, n_jobs=None, normalize=False)"
            ]
          },
          "metadata": {
            "tags": []
          },
          "execution_count": 33
        }
      ]
    },
    {
      "cell_type": "markdown",
      "metadata": {
        "id": "pgxDm4jwFDCI"
      },
      "source": [
        "## Predict test set results"
      ]
    },
    {
      "cell_type": "code",
      "metadata": {
        "id": "LumE55xEFFJ6"
      },
      "source": [
        "y_predictions = regressor.predict(x_test)"
      ],
      "execution_count": 34,
      "outputs": []
    },
    {
      "cell_type": "markdown",
      "metadata": {
        "id": "NiPZVI3JFF6f"
      },
      "source": [
        "##Visualize training set results"
      ]
    },
    {
      "cell_type": "code",
      "metadata": {
        "id": "A_xDyRZFFJZX",
        "outputId": "d99fbab2-d661-4a1f-d8c4-9fa2affc46cd",
        "colab": {
          "base_uri": "https://localhost:8080/",
          "height": 295
        }
      },
      "source": [
        "plt.scatter(x_train, y_train, color = 'red')\n",
        "plt.plot(x_train, regressor.predict(x_train), color = 'blue')\n",
        "plt.title('salary vs experience (Training set)')\n",
        "plt.xlabel('Experience')\n",
        "plt.ylabel('Salary')\n",
        "plt.show()"
      ],
      "execution_count": 35,
      "outputs": [
        {
          "output_type": "display_data",
          "data": {
            "image/png": "[encoded data removed]",
            "text/plain": [
              "<Figure size 432x288 with 1 Axes>"
            ]
          },
          "metadata": {
            "tags": [],
            "needs_background": "light"
          }
        }
      ]
    },
    {
      "cell_type": "markdown",
      "metadata": {
        "id": "OMTLlz9PFVq8"
      },
      "source": [
        "##Visualize test set results"
      ]
    },
    {
      "cell_type": "code",
      "metadata": {
        "id": "fRyuATg8FY7K",
        "outputId": "72e4171e-1c44-4626-d6e7-24913a93718f",
        "colab": {
          "base_uri": "https://localhost:8080/",
          "height": 295
        }
      },
      "source": [
        "plt.scatter(x_test, y_test, color = 'red')\n",
        "plt.plot(x_train, regressor.predict(x_train), color = 'blue') #regression line will be same for training adn test set\n",
        "plt.title('salary vs experience (Training set)')\n",
        "plt.xlabel('Experience')\n",
        "plt.ylabel('Salary')\n",
        "plt.show()"
      ],
      "execution_count": 36,
      "outputs": [
        {
          "output_type": "display_data",
          "data": {
            "image/png": "[encoded data removed]",
            "text/plain": [
              "<Figure size 432x288 with 1 Axes>"
            ]
          },
          "metadata": {
            "tags": [],
            "needs_background": "light"
          }
        }
      ]
    }
  ]
}