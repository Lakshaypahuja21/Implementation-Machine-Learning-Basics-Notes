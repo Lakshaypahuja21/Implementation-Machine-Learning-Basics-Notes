{
  "nbformat": 4,
  "nbformat_minor": 0,
  "metadata": {
    "colab": {
      "name": "Decision Tree Regression",
      "provenance": [],
      "toc_visible": true,
      "authorship_tag": "ABX9TyOtWPwvzez0HBdURmm5Khw0",
      "include_colab_link": true
    },
    "kernelspec": {
      "name": "python3",
      "display_name": "Python 3"
    }
  },
  "cells": [
    {
      "cell_type": "markdown",
      "metadata": {
        "id": "view-in-github",
        "colab_type": "text"
      },
      "source": [
        "<a href=\"https://colab.research.google.com/github/Lakshaypahuja21/Machine-Learning-Basics/blob/master/Decision_Tree_Regression.ipynb\" target=\"_parent\"><img src=\"https://colab.research.google.com/assets/colab-badge.svg\" alt=\"Open In Colab\"/></a>"
      ]
    },
    {
      "cell_type": "markdown",
      "metadata": {
        "id": "3CnrCTNoG0av"
      },
      "source": [
        "# decision tree regression"
      ]
    },
    {
      "cell_type": "markdown",
      "metadata": {
        "id": "5pvfn-spG1NH"
      },
      "source": [
        "## lib\n"
      ]
    },
    {
      "cell_type": "code",
      "metadata": {
        "id": "L-AxSbGLG7U8"
      },
      "source": [
        "import numpy as np\n",
        "import pandas as pd\n",
        "import matplotlib.pyplot as plt\n"
      ],
      "execution_count": 11,
      "outputs": []
    },
    {
      "cell_type": "markdown",
      "metadata": {
        "id": "M6xwaAc_HHYd"
      },
      "source": [
        "## dataset"
      ]
    },
    {
      "cell_type": "code",
      "metadata": {
        "id": "FewyCAVzHIhp"
      },
      "source": [
        "df = pd.read_csv('Position_Salaries.csv')\n",
        "x = df.iloc[:, 1:-1].values\n",
        "y = df.iloc[:, -1].values"
      ],
      "execution_count": 12,
      "outputs": []
    },
    {
      "cell_type": "markdown",
      "metadata": {
        "id": "ySKUWzpYHKeY"
      },
      "source": [
        "## training the decision tree model on full data set"
      ]
    },
    {
      "cell_type": "code",
      "metadata": {
        "id": "u1VfOSHDHOKL",
        "outputId": "95ee6b0e-fc0e-48c5-9ec2-1a6d62a3b79c",
        "colab": {
          "base_uri": "https://localhost:8080/"
        }
      },
      "source": [
        "from sklearn.tree import DecisionTreeRegressor\n",
        "regressor = DecisionTreeRegressor(random_state = 0)\n",
        "regressor.fit(x, y)"
      ],
      "execution_count": 13,
      "outputs": [
        {
          "output_type": "execute_result",
          "data": {
            "text/plain": [
              "DecisionTreeRegressor(ccp_alpha=0.0, criterion='mse', max_depth=None,\n",
              "                      max_features=None, max_leaf_nodes=None,\n",
              "                      min_impurity_decrease=0.0, min_impurity_split=None,\n",
              "                      min_samples_leaf=1, min_samples_split=2,\n",
              "                      min_weight_fraction_leaf=0.0, presort='deprecated',\n",
              "                      random_state=0, splitter='best')"
            ]
          },
          "metadata": {
            "tags": []
          },
          "execution_count": 13
        }
      ]
    },
    {
      "cell_type": "markdown",
      "metadata": {
        "id": "sckY6hEpHU1l"
      },
      "source": [
        "## predicting new result"
      ]
    },
    {
      "cell_type": "code",
      "metadata": {
        "id": "I-rs4m3OHWm0",
        "outputId": "22cffdf9-5b55-448e-aa02-ac91c20a9831",
        "colab": {
          "base_uri": "https://localhost:8080/"
        }
      },
      "source": [
        "regressor.predict([[6.5]])"
      ],
      "execution_count": 14,
      "outputs": [
        {
          "output_type": "execute_result",
          "data": {
            "text/plain": [
              "array([150000.])"
            ]
          },
          "metadata": {
            "tags": []
          },
          "execution_count": 14
        }
      ]
    },
    {
      "cell_type": "markdown",
      "metadata": {
        "id": "Soo32ta4HYAQ"
      },
      "source": [
        "## visualizing decision tree regression (high scale)"
      ]
    },
    {
      "cell_type": "code",
      "metadata": {
        "id": "MOOolv7wdK5_",
        "outputId": "64efa57d-7850-46c1-8d0d-26fef667dc91",
        "colab": {
          "base_uri": "https://localhost:8080/",
          "height": 295
        }
      },
      "source": [
        "x_grid = np.arange(min(x), max(x), 0.1)\n",
        "x_grid = x_grid.reshape((len(x_grid), 1))\n",
        "plt.scatter(x,y, color = 'red')\n",
        "plt.plot(x_grid, regressor.predict(x_grid), color = 'blue')\n",
        "plt.title('truth or bluff(decision tree)')\n",
        "plt.xlabel('position level')\n",
        "plt.ylabel('salary')\n",
        "plt.show()"
      ],
      "execution_count": 15,
      "outputs": [
        {
          "output_type": "display_data",
          "data": {
            "image/png": "[encoded data removed]",
            "text/plain": [
              "<Figure size 432x288 with 1 Axes>"
            ]
          },
          "metadata": {
            "tags": [],
            "needs_background": "light"
          }
        }
      ]
    },
    {
      "cell_type": "markdown",
      "metadata": {
        "id": "NIdwA81eKapK"
      },
      "source": [
        "## not best for 2 variables|"
      ]
    }
  ]
}