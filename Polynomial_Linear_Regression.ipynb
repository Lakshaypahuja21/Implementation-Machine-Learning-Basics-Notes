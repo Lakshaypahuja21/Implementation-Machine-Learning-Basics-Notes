{
  "nbformat": 4,
  "nbformat_minor": 0,
  "metadata": {
    "colab": {
      "name": "Polynomial Linear Regression",
      "provenance": [],
      "toc_visible": true,
      "authorship_tag": "ABX9TyOVLYpBUmPp4oDGwXcliCo0",
      "include_colab_link": true
    },
    "kernelspec": {
      "name": "python3",
      "display_name": "Python 3"
    }
  },
  "cells": [
    {
      "cell_type": "markdown",
      "metadata": {
        "id": "view-in-github",
        "colab_type": "text"
      },
      "source": [
        "<a href=\"https://colab.research.google.com/github/Lakshaypahuja21/Machine-Learning-Basics/blob/master/Polynomial_Linear_Regression.ipynb\" target=\"_parent\"><img src=\"https://colab.research.google.com/assets/colab-badge.svg\" alt=\"Open In Colab\"/></a>"
      ]
    },
    {
      "cell_type": "markdown",
      "metadata": {
        "id": "4AdFEmsbfLfi"
      },
      "source": [
        "# Polynomial linear regression"
      ]
    },
    {
      "cell_type": "markdown",
      "metadata": {
        "id": "XtCUoTDpM_HW"
      },
      "source": [
        "## Import Library"
      ]
    },
    {
      "cell_type": "code",
      "metadata": {
        "id": "A4inHxkr202a"
      },
      "source": [
        "import numpy as np\n",
        "import pandas as pd\n",
        "import matplotlib.pyplot as plt"
      ],
      "execution_count": 1,
      "outputs": []
    },
    {
      "cell_type": "markdown",
      "metadata": {
        "id": "gYp_a9SeM9tO"
      },
      "source": [
        "## Import dataset"
      ]
    },
    {
      "cell_type": "code",
      "metadata": {
        "id": "gJPgNsUAM8iv",
        "outputId": "bb734aa0-5d41-4e83-d533-1005552756c2",
        "colab": {
          "base_uri": "https://localhost:8080/",
          "height": 195
        }
      },
      "source": [
        "df = pd.read_csv('Position_Salaries.csv')\n",
        "df.head()"
      ],
      "execution_count": 12,
      "outputs": [
        {
          "output_type": "execute_result",
          "data": {
            "text/html": [
              "<div>\n",
              "<style scoped>\n",
              "    .dataframe tbody tr th:only-of-type {\n",
              "        vertical-align: middle;\n",
              "    }\n",
              "\n",
              "    .dataframe tbody tr th {\n",
              "        vertical-align: top;\n",
              "    }\n",
              "\n",
              "    .dataframe thead th {\n",
              "        text-align: right;\n",
              "    }\n",
              "</style>\n",
              "<table border=\"1\" class=\"dataframe\">\n",
              "  <thead>\n",
              "    <tr style=\"text-align: right;\">\n",
              "      <th></th>\n",
              "      <th>Position</th>\n",
              "      <th>Level</th>\n",
              "      <th>Salary</th>\n",
              "    </tr>\n",
              "  </thead>\n",
              "  <tbody>\n",
              "    <tr>\n",
              "      <th>0</th>\n",
              "      <td>Business Analyst</td>\n",
              "      <td>1</td>\n",
              "      <td>45000</td>\n",
              "    </tr>\n",
              "    <tr>\n",
              "      <th>1</th>\n",
              "      <td>Junior Consultant</td>\n",
              "      <td>2</td>\n",
              "      <td>50000</td>\n",
              "    </tr>\n",
              "    <tr>\n",
              "      <th>2</th>\n",
              "      <td>Senior Consultant</td>\n",
              "      <td>3</td>\n",
              "      <td>60000</td>\n",
              "    </tr>\n",
              "    <tr>\n",
              "      <th>3</th>\n",
              "      <td>Manager</td>\n",
              "      <td>4</td>\n",
              "      <td>80000</td>\n",
              "    </tr>\n",
              "    <tr>\n",
              "      <th>4</th>\n",
              "      <td>Country Manager</td>\n",
              "      <td>5</td>\n",
              "      <td>110000</td>\n",
              "    </tr>\n",
              "  </tbody>\n",
              "</table>\n",
              "</div>"
            ],
            "text/plain": [
              "            Position  Level  Salary\n",
              "0   Business Analyst      1   45000\n",
              "1  Junior Consultant      2   50000\n",
              "2  Senior Consultant      3   60000\n",
              "3            Manager      4   80000\n",
              "4    Country Manager      5  110000"
            ]
          },
          "metadata": {
            "tags": []
          },
          "execution_count": 12
        }
      ]
    },
    {
      "cell_type": "markdown",
      "metadata": {
        "id": "gYJcAF1hNtGB"
      },
      "source": [
        "independent & dependent var"
      ]
    },
    {
      "cell_type": "code",
      "metadata": {
        "id": "iQFll6LvNsFw"
      },
      "source": [
        "x = df.iloc[:, 1:-1].values\n",
        "y = df.iloc[:, -1].values"
      ],
      "execution_count": 3,
      "outputs": []
    },
    {
      "cell_type": "markdown",
      "metadata": {
        "id": "cptUGLS_hGZy"
      },
      "source": [
        "## Training linear regression model on full data "
      ]
    },
    {
      "cell_type": "code",
      "metadata": {
        "id": "igQIJq4dhKsQ",
        "outputId": "f9935b81-b2d3-4dda-a1ef-6ea89f0264b6",
        "colab": {
          "base_uri": "https://localhost:8080/",
          "height": 34
        }
      },
      "source": [
        "from sklearn.linear_model import LinearRegression\n",
        "linregressor = LinearRegression()\n",
        "linregressor.fit(x ,y)"
      ],
      "execution_count": 4,
      "outputs": [
        {
          "output_type": "execute_result",
          "data": {
            "text/plain": [
              "LinearRegression(copy_X=True, fit_intercept=True, n_jobs=None, normalize=False)"
            ]
          },
          "metadata": {
            "tags": []
          },
          "execution_count": 4
        }
      ]
    },
    {
      "cell_type": "markdown",
      "metadata": {
        "id": "RNNL9xZUav-7"
      },
      "source": [
        "## Training Polynomial regression model on full data set"
      ]
    },
    {
      "cell_type": "code",
      "metadata": {
        "id": "aPL1LDwnavja",
        "outputId": "bfd612e5-7f9d-43d3-8e92-e210de16dc1a",
        "colab": {
          "base_uri": "https://localhost:8080/",
          "height": 34
        }
      },
      "source": [
        "from sklearn.preprocessing import PolynomialFeatures\n",
        "polyregressor = PolynomialFeatures(degree =4)\n",
        "x_poly = polyregressor.fit_transform(x)\n",
        "linregressor2 = LinearRegression()\n",
        "linregressor2.fit(x_poly,y)"
      ],
      "execution_count": 13,
      "outputs": [
        {
          "output_type": "execute_result",
          "data": {
            "text/plain": [
              "LinearRegression(copy_X=True, fit_intercept=True, n_jobs=None, normalize=False)"
            ]
          },
          "metadata": {
            "tags": []
          },
          "execution_count": 13
        }
      ]
    },
    {
      "cell_type": "markdown",
      "metadata": {
        "id": "xVZADRsFb73-"
      },
      "source": [
        "## visualizing the linear regression results"
      ]
    },
    {
      "cell_type": "code",
      "metadata": {
        "id": "YKkW24ZVcBhR",
        "outputId": "7c749d83-1ea0-42c8-80db-96a8f7b57148",
        "colab": {
          "base_uri": "https://localhost:8080/",
          "height": 295
        }
      },
      "source": [
        "plt.scatter(x, y, color = 'red')\n",
        "plt.plot(x, linregressor.predict(x), color = 'blue')\n",
        "plt.title('truth or bluff(linear model)')\n",
        "plt.xlabel('position level')\n",
        "plt.ylabel('salary')\n",
        "plt.show()"
      ],
      "execution_count": 10,
      "outputs": [
        {
          "output_type": "display_data",
          "data": {
            "image/png": "[encoded data removed]",
            "text/plain": [
              "<Figure size 432x288 with 1 Axes>"
            ]
          },
          "metadata": {
            "tags": [],
            "needs_background": "light"
          }
        }
      ]
    },
    {
      "cell_type": "markdown",
      "metadata": {
        "id": "9xS-stY4cyml"
      },
      "source": [
        "## visualize polynomial regression results"
      ]
    },
    {
      "cell_type": "code",
      "metadata": {
        "id": "CDI0u3iGcklN",
        "outputId": "8a81fee1-0621-4799-da66-e71f3791ddef",
        "colab": {
          "base_uri": "https://localhost:8080/",
          "height": 295
        }
      },
      "source": [
        "plt.scatter(x, y, color = 'red')\n",
        "plt.plot(x, linregressor2.predict(x_poly), color = 'blue')\n",
        "plt.title('truth or bluff(polynomial)')\n",
        "plt.xlabel('position level')\n",
        "plt.ylabel('salary')\n",
        "plt.show()"
      ],
      "execution_count": 14,
      "outputs": [
        {
          "output_type": "display_data",
          "data": {
            "image/png": "[encoded data removed]",
            "text/plain": [
              "<Figure size 432x288 with 1 Axes>"
            ]
          },
          "metadata": {
            "tags": [],
            "needs_background": "light"
          }
        }
      ]
    },
    {
      "cell_type": "markdown",
      "metadata": {
        "id": "ngHeUGK6dWLS"
      },
      "source": [
        "## visualize polynomial regression results (for smooth curve)"
      ]
    },
    {
      "cell_type": "code",
      "metadata": {
        "id": "MOOolv7wdK5_",
        "outputId": "c78d71b5-bfa3-4c7d-e84d-88659dbe90e4",
        "colab": {
          "base_uri": "https://localhost:8080/",
          "height": 295
        }
      },
      "source": [
        "x_grid = np.arange(min(x), max(x), 0.1)\n",
        "x_grid = x_grid.reshape((len(x_grid), 1))\n",
        "plt.scatter(x, y, color = 'red')\n",
        "plt.plot(x, linregressor2.predict(x_poly), color = 'blue')\n",
        "plt.title('truth or bluff(polynomial)')\n",
        "plt.xlabel('position level')\n",
        "plt.ylabel('salary')\n",
        "plt.show()"
      ],
      "execution_count": 18,
      "outputs": [
        {
          "output_type": "display_data",
          "data": {
            "image/png": "[encoded data removed]",
            "text/plain": [
              "<Figure size 432x288 with 1 Axes>"
            ]
          },
          "metadata": {
            "tags": [],
            "needs_background": "light"
          }
        }
      ]
    },
    {
      "cell_type": "markdown",
      "metadata": {
        "id": "MAt7h3Fee69A"
      },
      "source": [
        "## Predicting new linear result"
      ]
    },
    {
      "cell_type": "code",
      "metadata": {
        "id": "uEBxMlC5fSsM",
        "outputId": "73663f5e-2fa6-4a3f-870e-40ef80bde079",
        "colab": {
          "base_uri": "https://localhost:8080/",
          "height": 34
        }
      },
      "source": [
        "linregressor.predict([[6.5]])"
      ],
      "execution_count": 19,
      "outputs": [
        {
          "output_type": "execute_result",
          "data": {
            "text/plain": [
              "array([330378.78787879])"
            ]
          },
          "metadata": {
            "tags": []
          },
          "execution_count": 19
        }
      ]
    },
    {
      "cell_type": "markdown",
      "metadata": {
        "id": "4OJzQYJXe6jD"
      },
      "source": [
        "## Predicting new polinomial result"
      ]
    },
    {
      "cell_type": "code",
      "metadata": {
        "id": "8aBuSIxxeLyh",
        "outputId": "aa74ac69-5e5c-49ff-b374-a37f1ff4accc",
        "colab": {
          "base_uri": "https://localhost:8080/",
          "height": 34
        }
      },
      "source": [
        "linregressor2.predict(polyregressor.fit_transform([[6.5]]))"
      ],
      "execution_count": 21,
      "outputs": [
        {
          "output_type": "execute_result",
          "data": {
            "text/plain": [
              "array([158862.45265155])"
            ]
          },
          "metadata": {
            "tags": []
          },
          "execution_count": 21
        }
      ]
    }
  ]
}